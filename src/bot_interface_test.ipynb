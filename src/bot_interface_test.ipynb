{
 "cells": [
  {
   "cell_type": "code",
   "execution_count": null,
   "metadata": {},
   "outputs": [],
   "source": [
    "from bot_interface import prompt_InstructBlip\n",
    "from transformers import InstructBlipForConditionalGeneration, InstructBlipProcessor\n",
    "import torch"
   ]
  },
  {
   "cell_type": "code",
   "execution_count": null,
   "metadata": {},
   "outputs": [],
   "source": [
    "device = \"cuda\" if torch.cuda.is_available() else \"cpu\"\n",
    "print(\"Running on\", device)\n",
    "\n",
    "model_name = \"Salesforce/instructblip-flan-t5-xl\"\n",
    "model = InstructBlipForConditionalGeneration.from_pretrained(model_name).to(device)\n",
    "processor = InstructBlipProcessor.from_pretrained(model_name)"
   ]
  },
  {
   "cell_type": "code",
   "execution_count": null,
   "metadata": {},
   "outputs": [],
   "source": [
    "prompts = 2 * [\"What do you see in this image?\"]\n",
    "img_paths = 2 * [\"../data/dummy/items.jpg\"]\n",
    "\n",
    "response = prompt_InstructBlip(img_paths, prompts, processor, model)\n",
    "print(response)"
   ]
  }
 ],
 "metadata": {
  "kernelspec": {
   "display_name": "thesis",
   "language": "python",
   "name": "python3"
  },
  "language_info": {
   "codemirror_mode": {
    "name": "ipython",
    "version": 3
   },
   "file_extension": ".py",
   "mimetype": "text/x-python",
   "name": "python",
   "nbconvert_exporter": "python",
   "pygments_lexer": "ipython3",
   "version": "3.13.0"
  }
 },
 "nbformat": 4,
 "nbformat_minor": 2
}
